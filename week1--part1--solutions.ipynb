{
 "cells": [
  {
   "cell_type": "markdown",
   "metadata": {
    "tags": []
   },
   "source": [
    "\n",
    "# Homework: Week 1, part 1\n",
    "\n",
    "*Part of the course:\n",
    "Introduction to Machine Learning (code: KI2V20001), 26/04/2021 to 02/07/2021, Utrecht University*\n",
    "\n",
    "Total points for this part: 30.\n",
    "\n",
    "Submit one ipynb file per pair, in the blacboard environment, with filename: ```IML2021_week1_part1_wg-#_lastname1_lastname2.ipynb```, with your group name in place of the #"
   ]
  },
  {
   "cell_type": "markdown",
   "metadata": {},
   "source": [
    "## Handy tools for math"
   ]
  },
  {
   "cell_type": "markdown",
   "metadata": {},
   "source": [
    "* You can use [$\\LaTeX$](https://jupyterbook.org/content/math.html) to write down mathematical expressions in Jupyter notebooks. A nice (machine learning-based!) tool to quickly find out how to write down specific math symbols is: http://detexify.kirelabs.org"
   ]
  },
  {
   "cell_type": "markdown",
   "metadata": {},
   "source": [
    "## Probability theory and statistics"
   ]
  },
  {
   "cell_type": "markdown",
   "metadata": {},
   "source": [
    "Probability theory and statistics form the backbone of Machine Learning. There are quite some machine learning experts, such as for example [Michael Littman](https://www.littmania.com/), who even equate machine learning with \"computational statistics\" - i.e. carrying out statistics by employing computers."
   ]
  },
  {
   "cell_type": "markdown",
   "metadata": {
    "tags": []
   },
   "source": [
    ">Although not relevant to this course: note that Michael Littman was in the first email attachment ever sent... ;-)\n"
   ]
  },
  {
   "cell_type": "markdown",
   "metadata": {},
   "source": [
    "Therefore, it is evident that training in academic probability theory and statistics is essential to understand machine learning well."
   ]
  },
  {
   "cell_type": "markdown",
   "metadata": {},
   "source": [
    "<br>\n",
    "<br>\n",
    "\n",
    "---\n",
    "\n",
    "**Assignment 1** (5 points)\n",
    "\n",
    "Probability theory and statistics are, in a certain sense, each other's counterparts. Explain this in at least 50, but not more than 100 words. Make freely use of sources on the Web, but phrase it in your own words. Add the links to the sources you used. The links should not be included in your word-count.\n",
    "\n",
    "**Answer**\n",
    "\n",
    "Probability theory deduces from random variables with *known* probability distributions, patterns in the *yet unknown* observations you can expect to make from those variables. Statistics works the other way around, in that it starts with *known* observations, and from these estimates (properties of) the *unknown* underlying probability distribution. For example it estimates the expected value, which is a property (\"parameter\") of a probability distribution.\n",
    "\n",
    "---\n",
    "<br>\n",
    "<br>"
   ]
  },
  {
   "cell_type": "markdown",
   "metadata": {},
   "source": [
    "---\n",
    "\n",
    "**Meta-information about previous assignment**\n",
    "\n",
    "*Learning objectives*\n",
    "\n",
    "* Understanding the difference between probability theory and statistics. These terms are often conflated, but understanding the difference makes it much easier to understand both theories.\n",
    "\n",
    "---\n",
    "\n",
    "<br>\n",
    "<br>"
   ]
  },
  {
   "cell_type": "markdown",
   "metadata": {},
   "source": [
    "In the first week, we will only focus on probability theory."
   ]
  },
  {
   "cell_type": "markdown",
   "metadata": {},
   "source": [
    "### Probability theory"
   ]
  },
  {
   "cell_type": "markdown",
   "metadata": {},
   "source": [
    "Briefly go through Section 1 of the following probability theory review/summary. It is from the well-known course in machine learning at Stanford University. The nice thing of this summary is that it basically contains all probability theory you need to know for machine learning basics. So it is a good source for later reference as well.\n",
    "\n",
    "\n",
    "**Important: please, do not worry when there are symbols and notions that are new for you.** You do not have to understand everything in one go, just acquaint yourself superficially with the terminology and definitions. The Teaching Assistants and the teachers will guide you through the necessary parts during the rest of the course. More detailed resources will be referred to in the rest of this document. "
   ]
  },
  {
   "cell_type": "markdown",
   "metadata": {},
   "source": [
    "* http://cs229.stanford.edu/section/cs229-prob.pdf"
   ]
  },
  {
   "cell_type": "markdown",
   "metadata": {},
   "source": [
    "A video source from M.I.T. that describes the topics in a much more detail and a very step-by-step way. It explains and elucidates symbols and notions is the following. Listen to the relevant parts in the coming assignments."
   ]
  },
  {
   "cell_type": "markdown",
   "metadata": {},
   "source": [
    "* https://www.youtube.com/watch?v=1uW3qMFA9Ho&list=PLUl4u3cNGP60hI9ATjSFgLZpbNJ7myAg6"
   ]
  },
  {
   "cell_type": "markdown",
   "metadata": {},
   "source": [
    "A good book from the TU Delft explaining things in a very step-by-step manner is (ebook available from the UU library):"
   ]
  },
  {
   "cell_type": "markdown",
   "metadata": {},
   "source": [
    "*  https://utrechtuniversity-on-worldcat-org.proxy.library.uu.nl/oclc/262680588"
   ]
  },
  {
   "cell_type": "markdown",
   "metadata": {},
   "source": [
    "Now, consider the following (game) scenario."
   ]
  },
  {
   "cell_type": "markdown",
   "metadata": {},
   "source": [
    "<br>\n",
    "<br>\n",
    "\n",
    "---\n",
    "\n",
    "**Scenario 1**\n",
    "\n",
    "* Akwasi is blindfolded. \n",
    "* There is a roulette-wheel, which has 5 slots. The slots are labelled with the letters 'A', 'B', up to 'E'. Assume that the roulette-wheel is completely fair: all slots have equal probability that the ball ends up in them.\n",
    "* Annukka spins the roulette-wheel. She observes the outcome. (For example, this is 'B'). Then she writes down a number as indicated in the following conversion list:\n",
    "    * 'A': -2\n",
    "    * 'B': -1\n",
    "    * 'C':  0\n",
    "    * 'D':  1\n",
    "    * 'E':  2\n",
    "* We will call this number the *private number*. (Continuing the example: the private number is $-1$.)\n",
    "* Then, Annukka spins the roulette-wheel a second time, and observes the outcome. (For example, this is 'E'.) She writes down a second number. It is obtained by taking the private number, and adding to it the number associated with the second outcome, using the same conversion list. (Continuing the examples, $E$ is converted to $2$, so the second number is $1$. After all: $-1 + 2 = 1$.)\n",
    "* We will call the second number the *public number*.\n",
    "* She communicates the public number with Akwasi. The private number is kept a secret.\n",
    "* With this information Akwasi tries to guess the first outcome.\n",
    "\n",
    "---\n",
    "\n",
    "<br>"
   ]
  },
  {
   "cell_type": "markdown",
   "metadata": {},
   "source": [
    "Now, read\n",
    "* Section \"Experiments\", and a few examples from Section \"Examples and Applications\" of https://randomservices.org/random/prob/Experiments.html.\n",
    "* https://en.wikipedia.org/wiki/Experiment_%28probability_theory%29 (excluding the \"mathematical description\")\n",
    "Then continue with:"
   ]
  },
  {
   "cell_type": "markdown",
   "metadata": {},
   "source": [
    "<br>\n",
    "<br>\n",
    "\n",
    "---\n",
    "\n",
    "**Assignment 2** (5 points)\n",
    "1. (2) Briefly describe, without formulas, the random experiment associated with scenario 1. Limit your description to the pure outcomes of the roulette-wheel, ignoring the numbers the players are writing down.\n",
    "\n",
    "* **Answer**\n",
    "Spinning a roulette-wheel with five slots two consecutive times, and observing the letter of the slot the ball ends up in.\n",
    "\n",
    "2. (3) The random experiment just described, can be considered as consisting of two random experimens that have been merged together. Describe these two random experiments.\n",
    "\n",
    "* **Answer**\n",
    "Basic experiment: Spinning a roulette-wheel with five slots and observing the letter of the slot the ball ends up in. The random experiment of question 1 is obtained by carrying out the basic experiment two consecutive times.\n",
    "\n",
    "* Note: This is a *compound experiment* as described in https://randomservices.org/random/prob/Experiments.html.\n",
    "\n",
    "---\n",
    "<br>\n",
    "<br>"
   ]
  },
  {
   "cell_type": "markdown",
   "metadata": {},
   "source": [
    "The random experiment is the corner stone of probability theory. If there is word of any form of probability, then it is important to become aware of the underlying random experiment to understand what is happening. All notions, such as \"the probability of\", \"the expected value of\" are relative to the underlying random experiment. In machine learning, for example, a typical random experiment is \"acquiring a dataset for training\".\n"
   ]
  },
  {
   "cell_type": "markdown",
   "metadata": {},
   "source": [
    "The random experiment has been formalised in mathematical terms by Kolmogorov. It is the most widely adopted formal foundation of probability theory (although there are others).  Read https://en.wikipedia.org/wiki/Probability_space, and listen to the corresponding parts in the video-list https://www.youtube.com/watch?v=iQ2edOqEQAs&list=PLUl4u3cNGP60hI9ATjSFgLZpbNJ7myAg6."
   ]
  },
  {
   "cell_type": "markdown",
   "metadata": {},
   "source": [
    "<br>\n",
    "<br>\n",
    "\n",
    "---\n",
    "\n",
    "**Assignment 3** (14 points)\n",
    "\n",
    "Consider the random experiment of spinning the roulette-wheel of scenario 1 once.\n",
    "1. (1) Define the associated outcome space $\\Omega$.\n",
    "* **Answer** $\\Omega = \\{\\textrm{A}, \\textrm{B}, \\textrm{C}, \\textrm{D}, \\textrm{E}\\}$.\n",
    "2. (1) Define the smallest possible event space $\\mathcal{F_\\textrm{min}}$.\n",
    "* **Answer** $\\{\\emptyset, \\{\\textrm{A}, \\textrm{B}, \\textrm{C}, \\textrm{D}, \\textrm{E}\\}\\}$\n",
    "3. (2) How many events does the  biggest possible event space $\\mathcal{F_\\textrm{max}}$ contain?\n",
    "* **Answer** $2^5  = 32$. This is easy to see: it is equal to all possible ways to choose each element from $\\Omega$ or not to choose it, so that is $2\\cdot2\\cdot2\\cdot2\\cdot2$, using the [product rule from combinatorics](https://en.wikipedia.org/wiki/Rule_of_product).\n",
    "4. (2) Suppose, the roulette-wheel would have contained 10 slots. How many events does the biggest possible event space contain?\n",
    "* **Answer** $2^{10}  = 1024$, same reasoning as previous answer.\n",
    "5. (3) (Returning to the 5 slotted roulette-wheel.) Define an event space $\\mathcal{F_{4}}$ that contains exactly 4 events.\n",
    "* **Answer** $\\{\\emptyset, \\{\\textrm{A}\\}, \\{\\textrm{B}, \\textrm{C}, \\textrm{D}, \\textrm{E}\\}, \\{\\textrm{A}, \\textrm{B}, \\textrm{C}, \\textrm{D}, \\textrm{E}\\}\\}$. Any other reply that can be obtained by replacing the 2 sets written in the middle by another partition (split) of $\\Omega$ into two subsets is correct.\n",
    "6. (5) How many event spaces with exactly 4 events are there?\n",
    "* **Answer 1** Simply write down all possibilities for $F_4$, and count them.\n",
    "* **Answer 2** This is equal to the number of ways you can partition $\\Omega$ into two disjoint subsets. (The $\\emptyset$ and $\\Omega$ are always part of the $\\mathcal{F}$, so they do not influence the count.) The number of ways you can do this for $k$ elements is equal to the number of ways you can choose $k$ elements from 5 elements. After all, put the $k$ chosen elements in one subset, and the elements not chosen in the other subset. This number is $\\binom{k}{5}$ (binomial coefficient). Note that for all $k > \\frac{5}{2}$ (so, half the size of $\\Omega$), the partitions obtained are identical to the ones you already counted. For example, all sets obtained by choosing 2 elements from 5, are the same as all the sets obtained by choosing 3 elements from 5. After all, in the latter, each time, 2 elements are not chosen. So, the answer is $\\sum_{k = 1}^{2} \\binom{k}{5} = \\binom{1}{5} + \\binom{2}{5} = 15$.\n",
    "* **Answer 3** The so-called [*Stirling number of the first kind*](https://en.wikipedia.org/wiki/Stirling_numbers_of_the_second_kind) can get the job done in one go. Change the previous answer, by determining the number of ways you can split $\\Omega$ into two joint subsets by means of $5 \\brace 2$ = 15. (The brace-notation is the notation for the Stirling number of the first kind.)\n",
    "7. (2) Now, define a valid probability measure $P$ for the probability space $(\\Omega, \\mathcal{F_{4}}, P)$, using the $\\mathcal{F_{4}}$ you just defined.\n",
    "* **Answer** $P(\\emptyset)$ = 0, $P(\\Omega)=1$, $P(\\{\\textrm{A}\\}) = \\frac{1}{5}$, $P(\\{\\textrm{B}, \\textrm{C}, \\textrm{D}, \\textrm{E}\\}) = \\frac{4}{5}$.\n",
    "\n",
    "---\n",
    "<br>\n",
    "<br>"
   ]
  },
  {
   "cell_type": "markdown",
   "metadata": {},
   "source": [
    "Now, read the subsection titled \"Properties\" in Section 1 of http://cs229.stanford.edu/section/cs229-prob.pdf."
   ]
  },
  {
   "cell_type": "markdown",
   "metadata": {},
   "source": [
    "<br>\n",
    "<br>\n",
    "\n",
    "---\n",
    "\n",
    "**Assignment 4** (6 points)\n",
    "\n",
    "Assume the probability space $(\\Omega, \\mathcal{F_\\textrm{max}}, P)$ as defined in the previous assignment. Additionally, define $P$ such that for each event in $A \\in \\mathcal{F_{max}}$ that contains $i$ elements, $P(A) = \\frac{i}{5}$. (Compare with the first example in http://cs229.stanford.edu/section/cs229-prob.pdf.)\n",
    "\n",
    "1. (2) Give an example of two events $A$ and $B$ (in $\\mathcal{F_\\textrm{max}}$) for which holds that probability of both events happening reaches their union bound, i.e. for which holds: $P(A \\cup B) = P(A) + P(B)$.\n",
    "* **Answer** $A = \\{\\textrm{A}, \\textrm{C}\\}$ and $B = \\{\\textrm{B}, \\textrm{E}\\}$. Each  solution in which $A$ and $B$ are disjoint is correct.\n",
    "2. (2) Give an example of two events for which holds that the probability of both vents happening does **not** reach their union bound. I.e., for which holds: $P(A \\cup B) < P(A) + P(B)$.\n",
    "* **Answer** $A = \\{\\textrm{A}, \\textrm{C}\\}$ and $B = \\{\\textrm{C}, \\textrm{E}\\}$. Each  solution in which $A$ and $B$ are **not** disjoint is correct.\n",
    "3. (2) When, in general, does the latter hold for $A$ and $B$?\n",
    "* **Answer** if $A$ and $B$ are **not** disjoint. This follows directly from the third property of the probability measure given in Section 1 of http://cs229.stanford.edu/section/cs229-prob.pdf.\n",
    "\n",
    "---\n",
    "\n",
    "<br>\n",
    "<br>\n"
   ]
  },
  {
   "cell_type": "markdown",
   "metadata": {},
   "source": [
    "---\n",
    "\n",
    "**Meta-information about previous assignment**\n",
    "\n",
    "*Learning objectives*\n",
    "\n",
    "* Getting some intuition for the union bound.\n",
    "\n",
    "*Dependencies*\n",
    "\n",
    "* In Machine Learning, the union bound is used in the first bound for the probability that $E_\\textrm{in}$ deviates from $E_\\textrm{out}$ in the case of an $\\mathcal{H}$ with multiple hypotheses.\n",
    "\n",
    "---"
   ]
  }
 ],
 "metadata": {
  "kernelspec": {
   "display_name": "Python 3",
   "language": "python",
   "name": "python3"
  },
  "language_info": {
   "codemirror_mode": {
    "name": "ipython",
    "version": 3
   },
   "file_extension": ".py",
   "mimetype": "text/x-python",
   "name": "python",
   "nbconvert_exporter": "python",
   "pygments_lexer": "ipython3",
   "version": "3.8.5"
  }
 },
 "nbformat": 4,
 "nbformat_minor": 4
}
