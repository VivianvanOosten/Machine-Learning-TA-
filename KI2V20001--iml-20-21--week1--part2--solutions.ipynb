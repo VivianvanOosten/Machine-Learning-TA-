{
 "cells": [
  {
   "cell_type": "markdown",
   "metadata": {
    "tags": []
   },
   "source": [
    "\n",
    "# Homework, Week 1, part 2\n",
    "\n",
    "*Part of the course:\n",
    "Introduction to Machine Learning (code: KI2V20001), 26/04/2021 to 02/07/2021, Utrecht University*\n",
    "\n",
    "Total points: 35\n",
    "\n",
    "Submit one ipynb file per pair, with filename: ```IML2021_week1_part2_wg#_lastname1_lastname2.ipynb```, with your group number or name in place of the # (if you're in different groups, pick one)\n",
    "\n",
    "\n"
   ]
  },
  {
   "cell_type": "markdown",
   "metadata": {},
   "source": [
    "## Probability theory"
   ]
  },
  {
   "cell_type": "markdown",
   "metadata": {},
   "source": [
    "Lets revisit the scenario from the previous part, repeated below:"
   ]
  },
  {
   "cell_type": "markdown",
   "metadata": {},
   "source": [
    "<br>\n",
    "<br>\n",
    "\n",
    "---\n",
    "\n",
    "**Scenario 1**\n",
    "\n",
    "* Akwasi is blindfolded. \n",
    "* There is a roulette-wheel, which has 5 slots. The slots are labelled with the letters 'A', 'B', up to 'E'. Assume that the roulette-wheel is completely fair: all slots have equal probability that the ball ends up in them.\n",
    "* Annukka spins the roulette-wheel. She observes the outcome. Then she writes down a number as indicated in the following conversion list:\n",
    "    * 'A': -2\n",
    "    * 'B': -1\n",
    "    * 'C':  0\n",
    "    * 'D':  1\n",
    "    * 'E':  2\n",
    "* We will call this number the *private number*.\n",
    "* Then, Annukka spins the roulette-wheel a second time, and observes the second outcome. She writes down a second number. It is obtained by taking the private number, and adding to it the number associated with the second outcome, using the same conversion list.\n",
    "* We will call the second number the *public number*.\n",
    "* She communicates the public number with Akwasi. The private number is kept a secret.\n",
    "* With this information Akwasi tries to guess the first outcome.\n",
    "\n",
    "---\n",
    "\n",
    "<br>"
   ]
  },
  {
   "cell_type": "markdown",
   "metadata": {},
   "source": [
    "### Random variables"
   ]
  },
  {
   "cell_type": "markdown",
   "metadata": {},
   "source": [
    "Random variables can be considered as a layer on top of the probability space that adds more mathematical \"instruments\" to it to apply probability theory. For important subcategories of random experiments, we are interested in numerically expressible properties, such as averages, etc. Random variables and associated notions are intended to capture these notions. Read https://en.wikipedia.org/wiki/Random_variable."
   ]
  },
  {
   "cell_type": "markdown",
   "metadata": {},
   "source": [
    "<br>\n",
    "<br>\n",
    "\n",
    "---\n",
    "\n",
    "**Assignment 1** (8 points)\n",
    "\n",
    "1. (2) Let $X_\\textrm{priv}$ be the random variable that is equal to the private number Annukka writes down. Define that random variable. I.e., write down how it maps $\\Omega$ to $\\mathbb{R}$ for every sample in $\\Omega$.\n",
    "* **Answer** $X_{priv} : \\Omega \\rightarrow \\mathbb{R}$, with<br>\n",
    "$ X_{priv}(\\omega) = \\left\\{ \\begin{array}\n",
    "        -2, & \\text{if } \\omega = \\textrm{A}\\\\\n",
    "        -1, & \\text{if } \\omega = \\text{B}\\\\\n",
    "        0, & \\text{if } \\omega = \\text{C} \\\\\n",
    "        1, & \\text{if } \\omega = \\text{D}\\\\\n",
    "        2, & \\text{if } \\omega = \\text{E} \n",
    "        \\end{array}\\right. $\n",
    "1. (2) Suppose Annukka would have written down the letter instead of a numeric value. Is it possible to define a random variable that maps $\\Omega$ to these letters?\n",
    "* **Answer** No, the [co-domain](https://en.wikipedia.org/wiki/Codomain) of $X_{priv}$ should be $\\mathbb{R}$ (so a real number), or at least, according to the wikipedia page, measurable. $\\{\\text{A},\\text{B},\\text{C}, \\ldots\\}$ is neither a subset of $\\mathbb{R}$, nor measurable. [The answer without mentioning \"measurable\" functions is also counted as correct.]\n",
    "2. (2) What subset of $\\Omega$ is denoted with the expression \"$X_\\textrm{priv} \\textrm{ is an odd number}$\"? So, write down the subset explicitly, in terms of the letters it is composed of.\n",
    "* **Answer** $\\{\\text{B}, \\text{D}\\}$\n",
    "3. (2) Express this subset also in [set builder notation](https://en.wikipedia.org/wiki/Set-builder_notation), in which $X_\\textrm{priv}$ and $\\Omega$ occur as symbols. Hint: an example can be found in the [CS299 probability review](http://cs229.stanford.edu/section/cs229-prob.pdf) and in the article [Event, Wikipedia, 5 April 2021](https://en.wikipedia.org/w/index.php?title=Event_(probability_theory)&oldid=1017892490).\n",
    "<br>\n",
    "<br>\n",
    "Some alternative ways to answer this question:\n",
    "* **Answer 1** $\\{\\omega \\in \\Omega | X_{priv}(\\omega)\\text{ is odd}\\} $\n",
    "* **Answer 2** $\\{\\omega \\in \\Omega | X_{priv}(\\omega) \\% 2 \\neq 0\\} $ ($\\%$ here used as the [modulo operation](https://en.wikipedia.org/wiki/Modulo_operation#Notation).)\n",
    "* **Answer 3** $\\{\\omega  | \\omega \\in \\Omega \\text{ and } X_{priv}(\\omega) \\% 2 \\neq 0\\} $\n"
   ]
  },
  {
   "cell_type": "markdown",
   "metadata": {
    "tags": []
   },
   "source": [
    "---\n",
    "\n",
    "**Meta-information about previous assignment**\n",
    "\n",
    "*Learning objectives*\n",
    "1. Understanding basic notions around random variables, including\n",
    "    1. Random variables map to $\\mathbb{R}$, and not to anything else.\n",
    "---\n",
    "\n",
    "<br>\n",
    "<br>"
   ]
  },
  {
   "cell_type": "markdown",
   "metadata": {
    "tags": []
   },
   "source": [
    "Now, read https://en.wikipedia.org/wiki/Joint_probability_distribution.\n",
    "\n"
   ]
  },
  {
   "cell_type": "markdown",
   "metadata": {},
   "source": [
    "<br>\n",
    "<br>\n",
    "\n",
    "---\n",
    "\n",
    "**Assignment 2** (8 points)\n",
    "\n",
    "Let $X_\\textrm{pub}$ be the random variable that is equal to the public number Annukka writes down.\n",
    "1. (6) Write down the joint probability distribution of $X_\\textrm{priv}$ and $X_\\textrm{pub}$ in a table. (Tip 1: you can use https://www.tablesgenerator.com/markdown_tables# to more easily create a table in Markdown syntax. Tip 2: in the same tool, with the menu-item *File* $\\rightarrow$ *Paste table data* you can transfer an existing markdown table to continue working on it with the tool.)\n",
    "1. Add to the table the marginal distribution of both $X_1$ and $X_2$.\n",
    "<br>\n",
    "<br>\n",
    "Alternative answers to both questions:\n",
    "* **Answer 1**<br>\n",
    "\n",
    "| $\\boxed{X_{priv} \\downarrow}$ / $\\boxed{X_{pub} \\rightarrow}$ | -4   | -3   | -2   | -1   | 0    | 1    | 2    | 3    | 4    | $\\boxed{P(X_{priv}) \\downarrow}$ (marginal) |\n",
    "|---------------------------------------------------------------|------|------|------|------|------|------|------|------|------|---------------------------------------------|\n",
    "| **-2**                                                        | 1/25 | 1/25 | 1/25 | 1/25 | 1/25 | 0    | 0    | 0    | 0    | 1/5                                         |\n",
    "| **-1**                                                        | 0    | 1/25 | 1/25 | 1/25 | 1/25 | 1/25 | 0    | 0    | 0    | 1/5                                         |\n",
    "| **0**                                                         | 0    | 0    | 1/25 | 1/25 | 1/25 | 1/25 | 1/25 | 0    | 0    | 1/5                                         |\n",
    "| **1**                                                         | 0    | 0    | 0    | 1/25 | 1/25 | 1/25 | 1/25 | 1/25 | 0    | 1/5                                         |\n",
    "| **2**                                                         | 0    | 0    | 0    | 0    | 1/25 | 1/25 | 1/25 | 1/25 | 1/25 | 1/5                                         |\n",
    "| **$\\boxed{P(X_{pub}) \\rightarrow}$ (marginal)**               | 1/25 | 2/25 | 3/25 | 4/25 | 1/5  | 4/25 | 3/25 | 2/25 | 1/25 |                                       |\n",
    "\n",
    "* **Answer 2** For the purist, the same answer, with a $\\LaTeX$ array. Additionally, the rows and columns are swapped.<br><br>\n",
    "$\\text{Divide every entry in this table by 25:}$<br>\n",
    "$\\cdot \\begin{array}{c|ccccc|c}\n",
    "\\boxed{X_{pub} \\downarrow} / \\boxed{X_{priv} \\rightarrow}&-2&-1&0&1&2  & \\boxed{P(X_{pub}) \\downarrow} \\\\\\hline\n",
    "-4& 1&0&0&0&0 & 1 \\\\\n",
    "-3& 1&1&0&0&0 & 2 \\\\\n",
    "-2& 1&1&1&0&0 & 3 \\\\\n",
    "-1& 1&1&1&1&0 & 4 \\\\\n",
    " 0& 1&1&1&1&1 & 5 \\\\\n",
    " 1& 0&1&1&1&1 & 4 \\\\\n",
    " 2& 0&0&1&1&1 & 3 \\\\\n",
    " 3& 0&0&0&1&1 & 2 \\\\\n",
    " 4& 0&0&0&0&1 & 1 \\\\\n",
    " \\hline\n",
    " \\boxed{P(X_{priv}) \\rightarrow}&5&5&5&5&5\\\\\n",
    "\\end{array}$<br>\n",
    "\n",
    "---\n",
    "\n",
    "<br>\n",
    "<br>"
   ]
  },
  {
   "cell_type": "markdown",
   "metadata": {},
   "source": [
    "\n",
    "<br>\n",
    "<br>\n",
    "\n",
    "---\n",
    "\n",
    "**Assignment 3** (4 points)\n",
    "\n",
    "1. (2) What is the conditional probability of $X_\\textrm{pub} = 2$ given $X_\\textrm{priv} = 1$? So, what is $P(X_\\textrm{pub} = 2$ | $X_\\textrm{priv} = 1)$\n",
    "* **Answer** Use the table and calculate with the conditional probability definition (see, for example http://cs229.stanford.edu/section/cs229-prob.pdf, Section 1.1):<br><br>\n",
    "Thus $P(X_\\textrm{pub} = 2$ | $X_\\textrm{priv} = 1) = \\dfrac{P(X_{pub}=2,X_{priv}=1)\\text{ (the joint probability for the given values)}}{P(X_{priv}=1)\\text{ (the marginal probability for the given values and variable)}}= \\dfrac{\\frac{1}{25}}{\\frac{1}{5}}= \\frac{1}{5}$\n",
    "1. (2) For what values of $x_\\textrm{priv}$ is $P(X_\\textrm{priv} = x_\\textrm{priv}$ | $X_\\textrm{pub} = 3)$ equal to zero?\n",
    "* **Answer** Look in the table at the row  $X_{pub}=3$. In this row, determine the entries where the probability is zero, and look up the associated values of $X_{priv}$. This leads to: $x_{priv} \\in \\{-2, -1, 0\\}$.\n",
    "---\n",
    "\n",
    "<br>\n",
    "<br>\n"
   ]
  },
  {
   "cell_type": "markdown",
   "metadata": {},
   "source": [
    "# Linear Algebra"
   ]
  },
  {
   "cell_type": "markdown",
   "metadata": {},
   "source": [
    "Briefly go through the following linear algebra review/summary. You do not have to understand everything in one go, just acquiant yourself superficially with the terminology and definitions. More detailed resources will be referred to in the rest of this document."
   ]
  },
  {
   "cell_type": "markdown",
   "metadata": {},
   "source": [
    "* http://cs229.stanford.edu/summer2020/cs229-linalg.pdf"
   ]
  },
  {
   "cell_type": "markdown",
   "metadata": {},
   "source": [
    "---\n",
    "\n",
    "**Meta-information**\n",
    "\n",
    "*Learning objectives*\n",
    "\n",
    "* matrix multiplication\n",
    "* transpose\n",
    "* vector innerproduct\n",
    "* vector inner product with matrix multiplication.\n",
    "* norms\n",
    "* orthogonal vectors\n",
    "* vector angles\n",
    "\n",
    "\n",
    "---\n",
    "\n",
    "<br>\n",
    "<br>"
   ]
  },
  {
   "cell_type": "markdown",
   "metadata": {},
   "source": [
    ">**Tip** You can generate $\\LaTeX$ matrix source code with https://jasonwarta.github.io/latex-matrix/."
   ]
  },
  {
   "cell_type": "markdown",
   "metadata": {},
   "source": [
    "Now, read: Matrices and Matrix Operations (2021, January 2) from https://math.libretexts.org/@go/page/1387.\n",
    "            "
   ]
  },
  {
   "cell_type": "markdown",
   "metadata": {
    "tags": []
   },
   "source": [
    "<br>\n",
    "<br>\n",
    "\n",
    "---\n",
    "\n",
    "**Assignment 4** (6 points)\n",
    "\n",
    "Go through the exercises/examples in the page Matrices and Matrix Operations (2021, January 2) from https://math.libretexts.org/@go/page/1387 that are listed below. However, replace the elements in each matrix with randomly chosen other numbers. Do it in such a way that the resulting problem remains in essence the same. For example, do not change numbers such that the result is much easier to achieve, or that there is no result possible. Solve the problems, while showing all steps you took in the calculation. Do this for the following examples:\n",
    "1. (1) 9.5.2B (addition)\n",
    "1. (2) 9.5.3 (scalar multiplication)\n",
    "1. (3) 9.5.5B (multiplication)\n",
    "1. (0) Verify your answers with a matrix calculator such as https://matrixcalc.org/en/, or if you are already up to it, by using Python in this notebook.\n",
    "---\n",
    "\n",
    "<br>\n",
    "<br>"
   ]
  },
  {
   "cell_type": "markdown",
   "metadata": {},
   "source": [
    "Now, read \"Strang, G.; Herman, E. “Jed.” (2021, January 2). The Dot Product\" from https://math.libretexts.org/@go/page/2588: everything up to, but not including \"direction angles\". You can skip the proofs."
   ]
  },
  {
   "cell_type": "markdown",
   "metadata": {},
   "source": [
    ">**Note**: one of the authors of the above is a researcher from M.I.T. and has an excellent and very clear step-by-step online course in linear algebra:\n",
    "> https://www.youtube.com/playlist?list=PL49CF3715CB9EF31D.\n",
    "> If you want to refresh your knowledge of linear algebra, do not hesitate to follow a  part of these lectues."
   ]
  },
  {
   "cell_type": "markdown",
   "metadata": {},
   "source": [
    "<br>\n",
    "<br>\n",
    "\n",
    "---\n",
    "\n",
    "**Assignment 5** (9 points)\n",
    "\n",
    "Go through the exercises stated in the page \"The Dot Product.\" at https://math.libretexts.org/@go/page/2588 that are listed below. However, replace the elements in each vector with randomly chosen other numbers. Do it in such a way that the resulting problem remains in essence the same. For example, do not change numbers such that the result is much easier to achieve, or that there is no result possible. Solve the problems, while showing all steps you took in the calculation. Do this for the following examples and exercises:\n",
    "1. (1) Exercise 12.3.1.\n",
    "1. (3) Exercise 12.3.3.\n",
    "1. (3) Exercise 12.3.4.\n",
    "1. (2) Given vectors $\\mathbf{v}$ and $\\mathbf{w}$. If one writes these vectors as 1-column matrices, then the innerproduct between them, can be expressed by means of a matrix multiplication\": $\\mathbf{v}^T \\mathbf{w}$. Suppose we would have written $\\mathbf{v}$ and $\\mathbf{w}$ as 1-row matrices instead. How would you then express the innerproduct by means of a matrix multiplication?\n",
    "* **Answer** (Assumed in this question is that both vectors have the same number of elements.) Transpose the second argument instead of the first, so $\\mathbf{v}\\mathbf{w}^{T}$.<br>\n",
    "Explanation: it is given that $\\mathbf{v}$ and $\\mathbf{w}$ both have the shape $1 \\times m$ (1 row and $m$ columns, for some $m \\in \\mathbb{N}$). Transposing $v$ makes it shape $m \\times 1$ (m rows and 1 column). So matrix multiplication is defined, and, concerning the matrix shapes the following happens: $(1 \\times m)(m \\times 1) \\rightarrow (1 \\times 1)$, a scalar, just what we needed! See also numpy above.\n",
    "\n",
    "---\n",
    "\n",
    "<br>\n",
    "<br>\n"
   ]
  },
  {
   "cell_type": "code",
   "execution_count": null,
   "metadata": {},
   "outputs": [],
   "source": []
  }
 ],
 "metadata": {
  "kernelspec": {
   "display_name": "Python 3",
   "language": "python",
   "name": "python3"
  },
  "language_info": {
   "codemirror_mode": {
    "name": "ipython",
    "version": 3
   },
   "file_extension": ".py",
   "mimetype": "text/x-python",
   "name": "python",
   "nbconvert_exporter": "python",
   "pygments_lexer": "ipython3",
   "version": "3.8.5"
  }
 },
 "nbformat": 4,
 "nbformat_minor": 4
}
